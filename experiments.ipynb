{
  "nbformat": 4,
  "nbformat_minor": 0,
  "metadata": {
    "colab": {
      "name": "Untitled0.ipynb",
      "provenance": [],
      "collapsed_sections": []
    },
    "kernelspec": {
      "name": "python3",
      "display_name": "Python 3"
    },
    "accelerator": "GPU"
  },
  "cells": [
    {
      "cell_type": "code",
      "metadata": {
        "id": "_62dgvNdrR6B",
        "colab_type": "code",
        "colab": {}
      },
      "source": [
        "import numpy as np\n",
        "import matplotlib.pyplot as plt\n",
        "import networkx as nx\n",
        "import random\n",
        "from gensim.models import Word2Vec\n",
        "from itertools import combinations\n",
        "from scipy.io import mmread\n",
        "import multiprocessing\n",
        "import sys\n",
        "import os\n",
        "import time"
      ],
      "execution_count": 0,
      "outputs": []
    },
    {
      "cell_type": "code",
      "metadata": {
        "id": "a5cIlRucihXM",
        "colab_type": "code",
        "colab": {}
      },
      "source": [
        "!pip install -q stellargraph"
      ],
      "execution_count": 0,
      "outputs": []
    },
    {
      "cell_type": "code",
      "metadata": {
        "id": "lRrVUwhGu6Re",
        "colab_type": "code",
        "colab": {}
      },
      "source": [
        "import stellargraph as sg\n",
        "from stellargraph.data import EdgeSplitter\n",
        "from stellargraph.mapper import GraphSAGELinkGenerator\n",
        "from stellargraph.layer import GraphSAGE, link_classification\n",
        "from stellargraph.data import BiasedRandomWalk\n",
        "import tensorflow.keras as keras # DO NOT USE KERAS DIRECTLY\n",
        "from sklearn import preprocessing, feature_extraction, model_selection\n",
        "from stellargraph import globalvar\n",
        "from stellargraph import StellarGraph\n",
        "from sklearn.linear_model import LogisticRegression\n",
        "from sklearn.svm import LinearSVC"
      ],
      "execution_count": 0,
      "outputs": []
    },
    {
      "cell_type": "code",
      "metadata": {
        "id": "Zt9ecwjiJooR",
        "colab_type": "code",
        "colab": {}
      },
      "source": [
        "def read_mtx(path):\n",
        "    '''\n",
        "    returns nx graph from MatrixMarket file\n",
        "    '''\n",
        "    a = mmread (path)\n",
        "    return nx.from_scipy_sparse_matrix(a)"
      ],
      "execution_count": 0,
      "outputs": []
    },
    {
      "cell_type": "code",
      "metadata": {
        "id": "4WIfqUCYJvyD",
        "colab_type": "code",
        "colab": {}
      },
      "source": [
        "def read_net(path):\n",
        "    '''\n",
        "    retuns nx graph from net file\n",
        "    '''\n",
        "    \n",
        "    G = nx.read_pajek(path)\n",
        "    G = nx.relabel_nodes(G, {str(i): i for i in range(G.number_of_nodes())})\n",
        "    return  G.to_undirected()"
      ],
      "execution_count": 0,
      "outputs": []
    },
    {
      "cell_type": "code",
      "metadata": {
        "id": "q_Iqw7creYSP",
        "colab_type": "code",
        "colab": {}
      },
      "source": [
        "def split_graph(graph, p = 0.25):\n",
        "    edge_splitter = EdgeSplitter(graph)\n",
        "    return edge_splitter.train_test_split(p=0.25, method=\"global\", keep_connected=True)"
      ],
      "execution_count": 0,
      "outputs": []
    },
    {
      "cell_type": "code",
      "metadata": {
        "id": "xx_gc38teYZL",
        "colab_type": "code",
        "colab": {}
      },
      "source": [
        "def mnap_k(predictions, true_values, k=10):\n",
        "    '''\n",
        "    predictions List[List[k]],\n",
        "    true_values List[Set]\n",
        "    '''\n",
        "\n",
        "    #For each prediction check if it is correct (1 or 0), array [n, k]\n",
        "    is_correct = np.array(list(map(lambda a, b: [x in b for x in a], predictions, true_values)), dtype = float)\n",
        "\n",
        "    #Scores for a single prediction\n",
        "    scores = is_correct * np.cumsum(is_correct, axis = 1) / np.cumsum(np.ones(is_correct.shape), axis = 1)\n",
        "\n",
        "    #length of each set in true_values\n",
        "    lengths = np.array([min(k, len(xi)) for xi in true_values])\n",
        "\n",
        "    #getting void sets. For empty set summ of scores is always 0, as no prediction is correct\n",
        "    voids = lengths == 0\n",
        "\n",
        "    return np.mean(np.sum(scores, axis = 1)/ (lengths +  voids)) #for empty set term equals 0"
      ],
      "execution_count": 0,
      "outputs": []
    },
    {
      "cell_type": "code",
      "metadata": {
        "id": "iJy8PbklC_Cm",
        "colab_type": "code",
        "colab": {}
      },
      "source": [
        "class Similarity_predictor:\n",
        "    def __init__(self, graph):\n",
        "        '''\n",
        "        graph - networkx graph we are predicting links for.\n",
        "        '''\n",
        "        self.graph = graph\n",
        "        self.nodes = set(graph.nodes)\n",
        "        self.similarity_matrix = None\n",
        "        pass\n",
        "        \n",
        "    \n",
        "    def fit(self, similarity_index='CN', use_inverse=True,\n",
        "            restart_parameter=0.5, tolerance=1e-5, max_iter=10):\n",
        "        '''\n",
        "        similarity_index - type of similarity to use:\n",
        "        CN - common neighbors\n",
        "        PA - preferential attachment\n",
        "        AA - Adamic-Adar \n",
        "        RA - resource allocation\n",
        "        JC - Jacard's coefficicent\n",
        "        RWR - random walk with return\n",
        "        CNGF - CNGF Algorithm\n",
        "        restart_parameter - probobility of continue random walk for RWR\n",
        "        use_inverse - if true RWR method uses inverse matrix(recomended),\n",
        "        max_iter - max iterations number if use_inverse is false\n",
        "        '''\n",
        "        \n",
        "        #following may be not very effective, but it is clear what is happening\n",
        "        def CommonNeighbours(pair):\n",
        "            u, v = pair\n",
        "            if (u == v):\n",
        "                return 0\n",
        "            similarity = len(set(self.graph.neighbors(u)) & set(self.graph.neighbors(v)))\n",
        "\n",
        "            self.similarity_matrix[u, v] = similarity\n",
        "            self.similarity_matrix[v, u] = similarity\n",
        "        \n",
        "        def JacardCoefficient(pair):\n",
        "            u, v = pair\n",
        "            if (u == v):\n",
        "                return 0\n",
        "            similarity = len(set(self.graph.neighbors(u)) & set(self.graph.neighbors(v))) / \\\n",
        "                         len(set(self.graph.neighbors(u)) | set(self.graph.neighbors(v)))\n",
        "                        \n",
        "            self.similarity_matrix[u, v] = similarity\n",
        "            self.similarity_matrix[v, u] = similarity\n",
        "        \n",
        "        def PreferentialAttachment(pair):\n",
        "            u, v = pair\n",
        "            if (u == v):\n",
        "                return 0\n",
        "            \n",
        "            similarity = self.graph.degree(u) * self.graph.degree(v)\n",
        "        \n",
        "            self.similarity_matrix[u, v] = similarity\n",
        "            self.similarity_matrix[v, u] = similarity\n",
        "\n",
        "        def AdamicAdar(pair):\n",
        "            u, v = pair\n",
        "            if (u == v):\n",
        "                return 0\n",
        "            \n",
        "            common_neighbours = set(self.graph.neighbors(u)) & set(self.graph.neighbors(v))\n",
        "            if (common_neighbours == set()):\n",
        "                return 0\n",
        "            degrees = np.array(list(self.graph.degree(common_neighbours)))[:,-1]\n",
        "            similarity = (np.ones(degrees.shape[0]) / np.log(degrees)).sum()\n",
        "\n",
        "            self.similarity_matrix[u, v] = similarity\n",
        "            self.similarity_matrix[v, u] = similarity\n",
        "        \n",
        "        def ResourceAllocation(pair):\n",
        "            u, v = pair\n",
        "            if (u == v):\n",
        "                return 0\n",
        "            \n",
        "            common_neighbours = set(self.graph.neighbors(u)) & set(self.graph.neighbors(v))\n",
        "            if (common_neighbours == set()):\n",
        "                return 0\n",
        "            degrees = np.array(list(self.graph.degree(common_neighbours)))[:,-1]\n",
        "            similarity = (np.ones(degrees.shape[0]) / degrees).sum()\n",
        "\n",
        "            self.similarity_matrix[u, v] = similarity\n",
        "            self.similarity_matrix[v, u] = similarity\n",
        "        \n",
        "        def CNGF(pair):\n",
        "            u, v = pair\n",
        "            if (u == v):\n",
        "                return 0\n",
        "            \n",
        "            common_neighbours = set(self.graph.neighbors(u)) & set(self.graph.neighbors(v))\n",
        "            if (common_neighbours == set()):\n",
        "                return 0\n",
        "            subgraph = self.graph.subgraph(common_neighbours | {u, v})\n",
        "            sub_degrees = np.array(list(subgraph.degree(common_neighbours)))[:,-1]\n",
        "            degrees = np.array(list(self.graph.degree(common_neighbours)))[:,-1]\n",
        "            similarity = (sub_degrees / np.log(degrees)).sum()\n",
        "\n",
        "            self.similarity_matrix[u, v] = similarity\n",
        "            self.similarity_matrix[v, u] = similarity\n",
        "       \n",
        "        def inverse_RWR(transfer_matrix, restart_parameter):\n",
        "            predict_matrix = None\n",
        "            ok = False #in case matrix will be singular\n",
        "            while not ok:\n",
        "                try:\n",
        "                    predict_matrix = (1 - restart_parameter) * np.linalg.inv(\n",
        "                    np.eye(self.graph.number_of_nodes()) - restart_parameter * transfer_matrix.T)\n",
        "                    ok = True\n",
        "\n",
        "                except np.linalg.LinAlgError:\n",
        "                    #we will change reset parameter a little to make matrix not singular\n",
        "                    if (restart_parameter + tolerance < 1):\n",
        "                        restart_parameter += tolerance\n",
        "                    else:\n",
        "                        restart_parameter -= tolerance\n",
        "            return predict_matrix\n",
        "        \n",
        "        #using an iteration algorithm it is not recomended, as convergance may be very slow\n",
        "        #and it does not handle singular matricies well\n",
        "        def iterative_RWR(transfer_matrix):\n",
        "            prev_matrix = None\n",
        "            current_matrix = np.eye(self.graph.number_of_nodes())\n",
        "            iterations = 0;\n",
        "\n",
        "            while (iterations < max_iter) and ((prev_matrix is None) or \\\n",
        "            (np.linalg.norm(current_matrix - prev_matrix) / self.graph.number_of_nodes() >= tolerance)):\n",
        "\n",
        "                prev_matrix = current_matrix\n",
        "                current_matrix = restart_parameter * transfer_matrix.T @ prev_matrix +\\\n",
        "                (1 - restart_parameter) * np.eye(self.graph.number_of_nodes())\n",
        "                iterations += 1\n",
        "            \n",
        "            return current_matrix\n",
        "            \n",
        "    \n",
        "        func_dict = {'CN' : CommonNeighbours,\n",
        "                     'PA' : PreferentialAttachment,\n",
        "                     'AA' : AdamicAdar,\n",
        "                     'RA' : ResourceAllocation,\n",
        "                     'JC' : JacardCoefficient,\n",
        "                     'CNGF': CNGF}\n",
        "        \n",
        "        self.similarity_matrix = np.zeros((self.graph.number_of_nodes(), self.graph.number_of_nodes()))\n",
        "        if (similarity_index in func_dict.keys()):\n",
        "            list(map(func_dict[similarity_index], combinations(range(self.graph.number_of_nodes()), 2)))\n",
        "        elif (similarity_index == 'RWR'):\n",
        "            \n",
        "            assert restart_parameter <= 1 and restart_parameter >= 0\n",
        "            transfer_matrix = nx.to_numpy_array(self.graph)\n",
        "            presict_matrix = None\n",
        "            sums = transfer_matrix.sum(axis=1)\n",
        "            transfer_matrix[sums > 0] /= sums[sums > 0][:, None]\n",
        "            \n",
        "            if use_inverse:\n",
        "                predict_matrix = inverse_RWR(transfer_matrix, restart_parameter)\n",
        "            else:\n",
        "                predict_matrix = iterative_RWR(transfer_matrix)\n",
        "                \n",
        "            self.similarity_matrix = (predict_matrix.T + predict_matrix) / 2         \n",
        "        else:\n",
        "            print('wrong similarity index')\n",
        "\n",
        "\n",
        "    def predict(self, pred_num):\n",
        "        '''\n",
        "        pred_num - number of predictions to make\n",
        "        '''\n",
        "        \n",
        "        def get_top_k(node):\n",
        "            not_included = list(self.nodes - set(self.graph.neighbors(node)) - {node})\n",
        "            possible_neighbours = np.arange(0, self.graph.number_of_nodes())[not_included]\n",
        "            pred_for_node = np.flipud(\n",
        "                possible_neighbours[np.argsort(\n",
        "                    self.similarity_matrix[node][not_included]\n",
        "                )[-pred_num:]]\n",
        "            )\n",
        "        \n",
        "            assert pred_for_node.shape[0] == pred_num\n",
        "\n",
        "            return pred_for_node\n",
        "        \n",
        "        predictions = []\n",
        "        for node in self.nodes:\n",
        "            predictions.append(get_top_k(node))\n",
        "        return np.array(predictions)"
      ],
      "execution_count": 0,
      "outputs": []
    },
    {
      "cell_type": "code",
      "metadata": {
        "id": "sNig4eixA2WQ",
        "colab_type": "code",
        "colab": {}
      },
      "source": [
        "#parameters\n",
        "p = 1.0 #return parameter\n",
        "q = 1.0 # in-out parameter\n",
        "dimensions = 128\n",
        "num_walks = 10\n",
        "walk_length = 80\n",
        "window_size = 10\n",
        "num_iter = 1 #SGD parameter\n",
        "workers = multiprocessing.cpu_count()\n",
        "\n",
        "def node2vec_embedding(graph):\n",
        "\t\trw = BiasedRandomWalk(graph)\n",
        "\t\twalks = rw.run(graph.nodes(), n=num_walks, length=walk_length, p=p, q=q)\n",
        "\t\n",
        "\t\t#convert indicies to words\n",
        "\t\twalks = [list(map(str, walk)) for walk in walks]\n",
        "\n",
        "\t\tmodel = Word2Vec(\n",
        "\t\t\t\twalks,\n",
        "\t\t\t\tsize=dimensions,\n",
        "\t\t\t\twindow=window_size,\n",
        "\t\t\t\tmin_count=0,\n",
        "\t\t\t\tsg=1,\n",
        "\t\t\t\tworkers=workers,\n",
        "\t\t\t\titer=num_iter\n",
        "\t\t)\n",
        "\n",
        "\t\tdef get_embedding(u):\n",
        "\t\t\t\treturn model.wv[str(u)]\n",
        "\n",
        "\t\treturn  np.array(list(map(get_embedding, range(graph.number_of_nodes()))))"
      ],
      "execution_count": 0,
      "outputs": []
    },
    {
      "cell_type": "code",
      "metadata": {
        "id": "4HpZFte78F-M",
        "colab_type": "code",
        "colab": {}
      },
      "source": [
        "#binary operators to create edges embeddings\n",
        "def mean(u, v):\n",
        "    return (u + v) / 2\n",
        "\n",
        "def L1(u, v):\n",
        "    return np.abs(u - v)\n",
        "\n",
        "def L2(u, v):\n",
        "    return (u - v) ** 2\n",
        "\n",
        "def mult(u, v):\n",
        "    return u * v"
      ],
      "execution_count": 0,
      "outputs": []
    },
    {
      "cell_type": "code",
      "metadata": {
        "id": "Ssm7pkyoKFRW",
        "colab_type": "code",
        "colab": {}
      },
      "source": [
        "#creation of training data from embeddings\n",
        "def create_train(graph, embeddings, operator=mean):\n",
        "    '''\n",
        "    retunrs array of features E X k and their labels\n",
        "    '''\n",
        "    #muting output\n",
        "    stdout = sys.stdout\n",
        "    sys.stdout = open(os.devnull, 'w')\n",
        "\n",
        "    seed = 0\n",
        "    succsess = False\n",
        "\n",
        "    #function can behave incorrectly, so we will be carefull\n",
        "    edges_train = None\n",
        "    labels = None\n",
        "    while not succsess:\n",
        "        try:\n",
        "            splitter = EdgeSplitter(graph)\n",
        "            #getting half of existing and the same amount of not existing\n",
        "\n",
        "            _, edges_train, labels = splitter.train_test_split(p=0.5, method='global')\n",
        "            succsess = True\n",
        "        except ValueError:\n",
        "            seed += 1\n",
        "\n",
        "    #get output back\n",
        "    sys.stdout = stdout\n",
        "\n",
        "    #generating features\n",
        "    train_features = np.array(\n",
        "        list(\n",
        "            map(\n",
        "              lambda x: \n",
        "                  operator(embeddings[x[0]], embeddings[x[1]]),\n",
        "              edges_train\n",
        "            )\n",
        "        )\n",
        "    )\n",
        "    \n",
        "    return train_features, labels"
      ],
      "execution_count": 0,
      "outputs": []
    },
    {
      "cell_type": "code",
      "metadata": {
        "id": "ngxA3mHoIHdL",
        "colab_type": "code",
        "colab": {}
      },
      "source": [
        "def test_data_generator(graph, embeddings, operator=mean):\n",
        "    '''\n",
        "    yeilds edges embeddings array and list of nodes for a current node\n",
        "    ''' \n",
        "    nodes_set = set(graph.nodes())\n",
        "    for node in graph.nodes():\n",
        "        neighbors_set = set(graph.neighbors(node))\n",
        "        possible_neighbors_set = nodes_set - neighbors_set - {node}\n",
        "\n",
        "        #generating features\n",
        "        features = np.array(\n",
        "            list(\n",
        "                map(\n",
        "                    lambda v: operator(embeddings[node], embeddings[v]),\n",
        "                    possible_neighbors_set\n",
        "                )\n",
        "            )\n",
        "        )\n",
        "\n",
        "        #yield batch\n",
        "        yield features, np.array(list(possible_neighbors_set))"
      ],
      "execution_count": 0,
      "outputs": []
    },
    {
      "cell_type": "code",
      "metadata": {
        "id": "8DMwMraC9Og2",
        "colab_type": "code",
        "outputId": "04c55f4f-d021-415d-e3e7-e2c3d3c79d51",
        "colab": {
          "base_uri": "https://localhost:8080/",
          "height": 34
        }
      },
      "source": [
        "from google.colab import drive\n",
        "drive.mount('/content/drive')"
      ],
      "execution_count": 0,
      "outputs": [
        {
          "output_type": "stream",
          "text": [
            "Drive already mounted at /content/drive; to attempt to forcibly remount, call drive.mount(\"/content/drive\", force_remount=True).\n"
          ],
          "name": "stdout"
        }
      ]
    },
    {
      "cell_type": "code",
      "metadata": {
        "id": "cE7eMjiPDKtV",
        "colab_type": "code",
        "outputId": "ab0b52e9-0581-4e6b-97dc-e0b3d5add71d",
        "colab": {
          "base_uri": "https://localhost:8080/",
          "height": 34
        }
      },
      "source": [
        "#reading file\n",
        "G = read_mtx('/content/socfb-MIT.mtx')\n",
        "\n",
        "#getting test data\n",
        "G_train, edge_list_test, labels = split_graph(G)\n",
        "\n",
        "#getting adjacency list for it\n",
        "adjacency_list_test = [set() for _ in range(G.number_of_nodes())]\n",
        "for edge in edge_list_test[labels == 1]:\n",
        "    adjacency_list_test[edge[0]].add(edge[1])\n",
        "    adjacency_list_test[edge[1]].add(edge[0])"
      ],
      "execution_count": 0,
      "outputs": [
        {
          "output_type": "stream",
          "text": [
            "** Sampled 62807 positive and 62807 negative edges. **\n"
          ],
          "name": "stdout"
        }
      ]
    },
    {
      "cell_type": "code",
      "metadata": {
        "id": "9Tn8_fOnx12y",
        "colab_type": "code",
        "colab": {}
      },
      "source": [
        "#getting results for Similarity based approaches\n",
        "similarity_indicies = ['CN', 'PA', 'AA', 'RA', 'JC', 'CNGF']\n",
        "time_consumed = []\n",
        "results = []\n",
        "\n",
        "predictor = Similarity_predictor(G_train)\n",
        "for index in similarity_indicies:\n",
        "    print(index, 'started')\n",
        "    start_time = time.time()\n",
        "    predictor.fit(similarity_index = index)\n",
        "    predictions = predictor.predict(10)\n",
        "    time_consumed.append(time.time() - start_time)\n",
        "    results.append(mnap_k(predictions, adjacency_list_test))\n",
        "    print(index, 'finished')"
      ],
      "execution_count": 0,
      "outputs": []
    },
    {
      "cell_type": "code",
      "metadata": {
        "id": "RlW8I6f42pey",
        "colab_type": "code",
        "colab": {}
      },
      "source": [
        "#getting best result for RWR\n",
        "best_res = 0\n",
        "best_parameter = 0\n",
        "rwr_time_consumed = 0\n",
        "\n",
        "for c in np.linspace(0, 1, 20):\n",
        "    print(c)\n",
        "    start_time = time.time()\n",
        "    predictor.fit(similarity_index='RWR', restart_parameter=c)\n",
        "    predictions = predictor.predict(10)\n",
        "    current_time_consumed = time.time() - start_time\n",
        "    res = mnap_k(predictions, adjacency_list_test)\n",
        "    if (res > best_res):\n",
        "        best_res = res\n",
        "        best_parameter = c\n",
        "        rwr_time_consumed = current_time_consumed"
      ],
      "execution_count": 0,
      "outputs": []
    },
    {
      "cell_type": "code",
      "metadata": {
        "id": "z84QysHO8MUk",
        "colab_type": "code",
        "colab": {}
      },
      "source": [
        "#Saving the results\n",
        "f = open('drive/My Drive/results.txt', 'w')\n",
        "for i in range(len(similarity_indicies)):\n",
        "    f.write(\"{} {} {}\\n\".format(similarity_indicies[i], results[i], time_consumed[i]))\n",
        "f.write(\"{} {} {} c = {}\\n\".format('RWR', best_res, rwr_time_consumed, best_parameter))\n",
        "f.close()"
      ],
      "execution_count": 0,
      "outputs": []
    },
    {
      "cell_type": "code",
      "metadata": {
        "id": "Zl4LCvOQq8mV",
        "colab_type": "code",
        "colab": {}
      },
      "source": [
        "G_train_nx = StellarGraph.from_networkx(G_train)"
      ],
      "execution_count": 0,
      "outputs": []
    },
    {
      "cell_type": "code",
      "metadata": {
        "id": "3RxxdltG5bpY",
        "colab_type": "code",
        "colab": {}
      },
      "source": [
        "#finding 'optimal' p and q parameters\n",
        "#start with p\n",
        "p = 0.5 #return parameter\n",
        "q = 0.6 # in-out parameter\n",
        "dimensions = 5 \n",
        "num_walks = 5\n",
        "walk_length = 15 \n",
        "window_size = 5\n",
        "num_iter = 1 #SGD parameter\n",
        "\n",
        "ans = [] #mnap result\n",
        "times = [] #time consumed\n",
        "\n",
        "for pp in np.linspace(0.05, 1, num=20):\n",
        "\n",
        "  #getting embeddings with new p\n",
        "  t1 = time.time()\n",
        "  p = pp\n",
        "  print(p)\n",
        "  embeddings = node2vec_embedding(G_train_nx)\n",
        "  t2 = time.time()\n",
        "  print('embedings done')\n",
        "\n",
        "  #getting train data for these embeddings\n",
        "  X_train, Y_train = create_train(G_train, embeddings, L2)\n",
        "\n",
        "  #fitting the LogRegression model\n",
        "  t3 = time.time()\n",
        "  model = LogisticRegression()\n",
        "  model.fit(X_train, Y_train)\n",
        "  t4 = time.time()\n",
        "\n",
        "  #saving time intervals\n",
        "  times.append((t2 - t1, t3 - t2, t4 - t3)) \n",
        "\n",
        "  #getting predictions only for 500 first nodes\n",
        "  i = 0\n",
        "  preds = []\n",
        "  for features, pairs in test_data_generator(G_train, embeddings, L2):\n",
        "    preds.append(pairs[np.argsort(model.predict_proba(features)[:, 0])][:10])\n",
        "    i += 1\n",
        "    if i == 500:\n",
        "      break\n",
        "    print('\\r', i, end = '')\n",
        "  print('\\r', i)\n",
        "  less_list = np.array(adjacency_list_test)[:500]\n",
        "  ans.append(mnap_k(preds[:500], less_list))\n",
        "  print(mnap_k(preds[:500], less_list))"
      ],
      "execution_count": 0,
      "outputs": []
    },
    {
      "cell_type": "code",
      "metadata": {
        "id": "2WpHGqnlOD53",
        "colab_type": "code",
        "outputId": "fd2e3d21-3f79-4dd8-82ac-095057b40103",
        "colab": {
          "base_uri": "https://localhost:8080/",
          "height": 296
        }
      },
      "source": [
        "#p results\n",
        "plt.plot(np.linspace(0.05, 1, num=20), ans)\n",
        "plt.xlabel(\"Значение p\")\n",
        "plt.ylabel(\"Оценка качества\")"
      ],
      "execution_count": 0,
      "outputs": [
        {
          "output_type": "execute_result",
          "data": {
            "text/plain": [
              "Text(0, 0.5, 'Оценка качества')"
            ]
          },
          "metadata": {
            "tags": []
          },
          "execution_count": 66
        },
        {
          "output_type": "display_data",
          "data": {
            "image/png": "[encoded data removed]",
            "text/plain": [
              "<Figure size 432x288 with 1 Axes>"
            ]
          },
          "metadata": {
            "tags": [],
            "needs_background": "light"
          }
        }
      ]
    },
    {
      "cell_type": "code",
      "metadata": {
        "id": "xE7AzgFpQZKA",
        "colab_type": "code",
        "colab": {}
      },
      "source": [
        "f = open('drive/My Drive/p_results.txt', 'w')\n",
        "for i in range(len(ans)):    \n",
        "  f.write(\"{} {}\\n\".format(ans[i], times[i][0]))\n",
        "f.close()"
      ],
      "execution_count": 0,
      "outputs": []
    },
    {
      "cell_type": "code",
      "metadata": {
        "id": "CmCO1y5gS_oj",
        "colab_type": "code",
        "colab": {}
      },
      "source": [
        "#now q, (the same way as p)\n",
        "q = 0.6 # in-out parameter\n",
        "dimensions = 5 #128\n",
        "num_walks = 5\n",
        "walk_length = 15 #80\n",
        "window_size = 5\n",
        "num_iter = 1 #SGD parameter\n",
        "\n",
        "ans = []\n",
        "times = []\n",
        "\n",
        "for pp in np.linspace(0.05, 1, num=20):\n",
        "  t1 = time.time()\n",
        "  q = pp\n",
        "  print(q)\n",
        "  embeddings = node2vec_embedding(G_train_nx)\n",
        "  t2 = time.time()\n",
        "  print('embedings done')\n",
        "  X_train, Y_train = create_train(G_train, embeddings, mean)\n",
        "  t3 = time.time()\n",
        "  model = LogisticRegression()\n",
        "  model.fit(X_train, Y_train)\n",
        "  t4 = time.time()\n",
        "  times.append((t2 - t1, t3 - t2, t4 - t3))\n",
        "  i = 0\n",
        "  preds = []\n",
        "  for features, pairs in test_data_generator(G_train, embeddings, L2):\n",
        "\n",
        "    preds.append(pairs[np.argsort(model.predict_proba(features)[:, 0])][:10])\n",
        "    i += 1\n",
        "    if i == 500:\n",
        "      break\n",
        "    print('\\r', i, end = '')\n",
        "  print('\\r', i)\n",
        "  less_list = np.array(adjacency_list_test)[:500]\n",
        "  ans.append(mnap_k(preds[:500], less_list))\n",
        "  print(mnap_k(preds[:500], less_list))"
      ],
      "execution_count": 0,
      "outputs": []
    },
    {
      "cell_type": "code",
      "metadata": {
        "id": "6HJLtGM-XxyU",
        "colab_type": "code",
        "outputId": "d4fb3c0b-6df7-4cd6-cf24-e106d6516090",
        "colab": {
          "base_uri": "https://localhost:8080/",
          "height": 296
        }
      },
      "source": [
        "#q results\n",
        "plt.plot(np.linspace(0.05, 1, num=20), ans)\n",
        "plt.xlabel(\"Значение q\")\n",
        "plt.ylabel(\"Оценка качества\")"
      ],
      "execution_count": 0,
      "outputs": [
        {
          "output_type": "execute_result",
          "data": {
            "text/plain": [
              "Text(0, 0.5, 'Оценка качества')"
            ]
          },
          "metadata": {
            "tags": []
          },
          "execution_count": 71
        },
        {
          "output_type": "display_data",
          "data": {
            "image/png": "[encoded data removed]",
            "text/plain": [
              "<Figure size 432x288 with 1 Axes>"
            ]
          },
          "metadata": {
            "tags": [],
            "needs_background": "light"
          }
        }
      ]
    },
    {
      "cell_type": "code",
      "metadata": {
        "id": "v5xwO6EQX7y8",
        "colab_type": "code",
        "colab": {}
      },
      "source": [
        "#saving results\n",
        "f = open('drive/My Drive/q_results.txt', 'w')\n",
        "for i in range(len(ans)):\n",
        "    f.write(\"{} {}\\n\".format(ans[i], times[i][0]))\n",
        "f.close()"
      ],
      "execution_count": 0,
      "outputs": []
    },
    {
      "cell_type": "code",
      "metadata": {
        "id": "_rgcOaJXraL8",
        "colab_type": "code",
        "colab": {}
      },
      "source": [
        "#Compairing operetors results for LogRegression\n",
        "\n",
        "p = 0.85 #return parameter\n",
        "q = 0.6 # in-out parameter\n",
        "dimensions = 32 #128\n",
        "num_walks = 20\n",
        "walk_length = 40 #80\n",
        "window_size = 10\n",
        "num_iter = 5 #SGD parameter\n",
        "\n",
        "embeddings = node2vec_embedding(G_train_nx)\n",
        "\n",
        "ans = []\n",
        "times = []\n",
        "\n",
        "for method in [mean, L1, L2, mult]:\n",
        "  #creating train data\n",
        "  print('starting method')\n",
        "  t1 = time.time()\n",
        "  X_train, Y_train = create_train(G_train, embeddings, method)\n",
        "  t2 = time.time()\n",
        "\n",
        "  #fitting model\n",
        "  print('training data created')\n",
        "  model = LogisticRegression()\n",
        "  model.fit(X_train, Y_train)\n",
        "  t3 = time.time()\n",
        "  \n",
        "  #predicting\n",
        "  i = 0\n",
        "  preds = []\n",
        "  for features, pairs in test_data_generator(G_train, embeddings, method):\n",
        "    preds.append(pairs[np.argsort(model.predict_proba(features)[:, 0])][:10])\n",
        "    i += 1\n",
        "    print('\\r', i, end = '')\n",
        "  print('\\r', i)\n",
        "  t4 = time.time()\n",
        "\n",
        "  times.append((t2 - t1, t3 - t2, t4 - t3)) \n",
        "\n",
        "  ans.append(mnap_k(preds, adjacency_list_test))\n",
        "  print(mnap_k(preds, adjacency_list_test))"
      ],
      "execution_count": 0,
      "outputs": []
    },
    {
      "cell_type": "code",
      "metadata": {
        "id": "0cyFOXoVqNaG",
        "colab_type": "code",
        "colab": {}
      },
      "source": [
        "#Saving results\n",
        "f = open('drive/My Drive/Logicstic_metrics.txt', 'w')\n",
        "f.write(\"mnap_k create_train fit_time prdeict_time\\n\")\n",
        "for i in range(len(ans)):\n",
        "    f.write(\"{} {} {} {}\\n\".format(ans[i], times[i][0], times[i][1], times[i][2]))\n",
        "f.close()"
      ],
      "execution_count": 0,
      "outputs": []
    },
    {
      "cell_type": "code",
      "metadata": {
        "id": "Sj5rEuQcaUH5",
        "colab_type": "code",
        "colab": {}
      },
      "source": [
        "#Same for SVM model\n",
        "\n",
        "p = 0.85 #return parameter\n",
        "q = 0.6 # in-out parameter\n",
        "dimensions = 32 #128\n",
        "num_walks = 20\n",
        "walk_length = 40 #80\n",
        "window_size = 10\n",
        "num_iter = 5 #SGD parameter\n",
        "\n",
        "ans = []\n",
        "times = []\n",
        "\n",
        "embeddings = node2vec_embedding(G_train_nx)\n",
        "\n",
        "for method in [mean, L1, L2, mult]:\n",
        "  print('starting method')\n",
        "  t1 = time.time()\n",
        "  X_train, Y_train = create_train(G_train, embeddings, method)\n",
        "  print('training data created')\n",
        "  t2 = time.time()\n",
        "  model = LinearSVC()\n",
        "  model.fit(X_train, Y_train)\n",
        "  t3 = time.time()\n",
        "  \n",
        "  i = 0\n",
        "  preds = []\n",
        "  for features, pairs in test_data_generator(G_train, embeddings, method):\n",
        "    preds.append(pairs[np.argsort(-model.decision_function(features))][:10])\n",
        "    i += 1\n",
        "    print('\\r', i, end = '')\n",
        "  print('\\r', i)\n",
        "  t4 = time.time()\n",
        "  times.append((t2 - t1, t3 - t2, t4 - t3))\n",
        "\n",
        "  ans.append(mnap_k(preds, adjacency_list_test))\n",
        "  print(mnap_k(preds, adjacency_list_test))"
      ],
      "execution_count": 0,
      "outputs": []
    },
    {
      "cell_type": "code",
      "metadata": {
        "id": "dM-AG0ZEOj_T",
        "colab_type": "code",
        "colab": {}
      },
      "source": [
        "#Saving results\n",
        "f = open('drive/My Drive/svd_metrics.txt', 'w')\n",
        "f.write(\"mnap_k create_train fit_time prdeict_time\\n\")\n",
        "for i in range(len(ans)):\n",
        "    f.write(\"{} {} {} {}\\n\".format(ans[i], times[i][0], times[i][1], times[i][2]))\n",
        "f.close()"
      ],
      "execution_count": 0,
      "outputs": []
    },
    {
      "cell_type": "markdown",
      "metadata": {
        "id": "WiymfIftf5vZ",
        "colab_type": "text"
      },
      "source": [
        "SageGraph"
      ]
    },
    {
      "cell_type": "code",
      "metadata": {
        "id": "uVnshIQSiwGO",
        "colab_type": "code",
        "outputId": "7c46e76b-e072-4ecb-da50-00e722c62def",
        "colab": {
          "base_uri": "https://localhost:8080/",
          "height": 34
        }
      },
      "source": [
        "G_small, edge_list_train, labels_train = split_graph(G_train)"
      ],
      "execution_count": 0,
      "outputs": [
        {
          "output_type": "stream",
          "text": [
            "** Sampled 47105 positive and 47105 negative edges. **\n"
          ],
          "name": "stdout"
        }
      ]
    },
    {
      "cell_type": "code",
      "metadata": {
        "id": "ElbiAR5AoUr3",
        "colab_type": "code",
        "colab": {}
      },
      "source": [
        "p = 0.85 #return parameter\n",
        "q = 0.6 # in-out parameter\n",
        "dimensions = 32 #128\n",
        "num_walks = 20\n",
        "walk_length = 40 #80\n",
        "window_size = 10\n",
        "num_iter = 5 #SGD parameter\n",
        "\n",
        "embeddings = node2vec_embedding(G_train_nx)"
      ],
      "execution_count": 0,
      "outputs": []
    },
    {
      "cell_type": "code",
      "metadata": {
        "id": "n08syOYVgSJw",
        "colab_type": "code",
        "colab": {}
      },
      "source": [
        "for i in range(len(G_train.nodes)):\n",
        "  G_small.nodes[i][\"feature\"] = embeddings[i]\n",
        "  G_train.nodes[i][\"feature\"] = embeddings[i]"
      ],
      "execution_count": 0,
      "outputs": []
    },
    {
      "cell_type": "code",
      "metadata": {
        "id": "UynZZoT2jTmB",
        "colab_type": "code",
        "outputId": "ec200673-543d-4127-a00e-f0a26cfab244",
        "colab": {
          "base_uri": "https://localhost:8080/",
          "height": 105
        }
      },
      "source": [
        "G_sg_train = sg.StellarGraph(G_small, node_features=\"feature\")\n",
        "G_sg_test = sg.StellarGraph(G_train, node_features=\"feature\")"
      ],
      "execution_count": 0,
      "outputs": [
        {
          "output_type": "stream",
          "text": [
            "/usr/local/lib/python3.6/dist-packages/ipykernel_launcher.py:1: DeprecationWarning: Constructing a StellarGraph directly from a NetworkX graph has been replaced by the `StellarGraph.from_networkx` function\n",
            "  \"\"\"Entry point for launching an IPython kernel.\n",
            "/usr/local/lib/python3.6/dist-packages/ipykernel_launcher.py:2: DeprecationWarning: Constructing a StellarGraph directly from a NetworkX graph has been replaced by the `StellarGraph.from_networkx` function\n",
            "  \n"
          ],
          "name": "stderr"
        }
      ]
    },
    {
      "cell_type": "code",
      "metadata": {
        "id": "k0cTreeIkEjO",
        "colab_type": "code",
        "outputId": "6a9250e7-4e8e-4d69-bb20-133122b1b26a",
        "colab": {
          "base_uri": "https://localhost:8080/",
          "height": 221
        }
      },
      "source": [
        "print(G_sg_train.info())"
      ],
      "execution_count": 0,
      "outputs": [
        {
          "output_type": "stream",
          "text": [
            "StellarGraph: Undirected multigraph\n",
            " Nodes: 6402, Edges: 141318\n",
            "\n",
            " Node types:\n",
            "  default: [6402]\n",
            "    Features: float32 vector, length 32\n",
            "    Edge types: default-default->default\n",
            "\n",
            " Edge types:\n",
            "    default-default->default: [141318]\n",
            "        Weights: all 1 (default)\n",
            "        Features: none\n"
          ],
          "name": "stdout"
        }
      ]
    },
    {
      "cell_type": "code",
      "metadata": {
        "id": "WRcSaL5OkVgy",
        "colab_type": "code",
        "colab": {}
      },
      "source": [
        "batch_size = 20\n",
        "epochs = 10\n",
        "\n",
        "num_samples = [20, 10]\n",
        "\n",
        "\n",
        "train_gen0 = GraphSAGELinkGenerator(G_sg_train, batch_size, num_samples)\n",
        "train_gen = train_gen0.flow(edge_list_train, labels_train)\n",
        "test_gen0 = GraphSAGELinkGenerator(G_sg_test,  batch_size, num_samples)\n",
        "test_gen = test_gen0.flow(edge_list_test, labels)"
      ],
      "execution_count": 0,
      "outputs": []
    },
    {
      "cell_type": "code",
      "metadata": {
        "id": "_djiEQdsk5m9",
        "colab_type": "code",
        "outputId": "e62d74c8-fa86-48fe-c500-8dd5adbe9b9c",
        "colab": {
          "base_uri": "https://localhost:8080/",
          "height": 51
        }
      },
      "source": [
        "layer_sizes = [10, 10]\n",
        "assert len(layer_sizes) == len(num_samples)\n",
        "\n",
        "graphsage = GraphSAGE(layer_sizes=layer_sizes, generator=train_gen0, bias=True, dropout=0.3) #Построение нееросетки\n",
        "\n",
        "\n",
        "x_inp, x_out = graphsage.build()"
      ],
      "execution_count": 0,
      "outputs": [
        {
          "output_type": "stream",
          "text": [
            "/usr/local/lib/python3.6/dist-packages/ipykernel_launcher.py:7: DeprecationWarning: The 'build' method is deprecated, use 'in_out_tensors' instead.\n",
            "  import sys\n"
          ],
          "name": "stderr"
        }
      ]
    },
    {
      "cell_type": "code",
      "metadata": {
        "id": "LQC-egPhlwOT",
        "colab_type": "code",
        "outputId": "124442e7-c4f1-4e71-d58b-0005e3a9e0c4",
        "colab": {
          "base_uri": "https://localhost:8080/",
          "height": 34
        }
      },
      "source": [
        "prediction = link_classification(\n",
        "            output_dim=1, output_act=\"relu\", edge_embedding_method='ip'\n",
        "        )(x_out)\n",
        "\n",
        "model = keras.Model(inputs=x_inp, outputs=prediction)\n",
        "\n",
        "model.compile(optimizer=keras.optimizers.Adam(lr=1e-3),\n",
        "    loss=keras.losses.binary_crossentropy,\n",
        "    metrics=[\"acc\"]) #компиляция модели"
      ],
      "execution_count": 0,
      "outputs": [
        {
          "output_type": "stream",
          "text": [
            "link_classification: using 'ip' method to combine node embeddings into edge embeddings\n"
          ],
          "name": "stdout"
        }
      ]
    },
    {
      "cell_type": "code",
      "metadata": {
        "id": "msChCHHJl7jA",
        "colab_type": "code",
        "outputId": "bdf6e06d-7d1b-426d-c21f-30740c091593",
        "colab": {
          "base_uri": "https://localhost:8080/",
          "height": 224
        }
      },
      "source": [
        "init_train_metrics = model.evaluate_generator(train_gen)\n",
        "init_test_metrics = model.evaluate_generator(test_gen)\n",
        "\n",
        "print(\"\\nTrain Set Metrics of the initial (untrained) model:\")\n",
        "for name, val in zip(model.metrics_names, init_train_metrics):\n",
        "    print(\"\\t{}: {:0.4f}\".format(name, val))\n",
        "\n",
        "print(\"\\nTest Set Metrics of the initial (untrained) model:\")\n",
        "for name, val in zip(model.metrics_names, init_test_metrics):\n",
        "    print(\"\\t{}: {:0.4f}\".format(name, val))"
      ],
      "execution_count": 0,
      "outputs": [
        {
          "output_type": "stream",
          "text": [
            "WARNING:tensorflow:From <ipython-input-24-10ef939aa967>:1: Model.evaluate_generator (from tensorflow.python.keras.engine.training) is deprecated and will be removed in a future version.\n",
            "Instructions for updating:\n",
            "Please use Model.evaluate, which supports generators.\n",
            "\n",
            "Train Set Metrics of the initial (untrained) model:\n",
            "\tloss: 0.8765\n",
            "\tacc: 0.5443\n",
            "\n",
            "Test Set Metrics of the initial (untrained) model:\n",
            "\tloss: 0.8858\n",
            "\tacc: 0.5399\n"
          ],
          "name": "stdout"
        }
      ]
    },
    {
      "cell_type": "code",
      "metadata": {
        "id": "BMhNfLzDl7uM",
        "colab_type": "code",
        "outputId": "293a6c08-9920-4382-9219-5e874b513144",
        "colab": {
          "base_uri": "https://localhost:8080/",
          "height": 428
        }
      },
      "source": [
        "history = model.fit_generator(\n",
        "            train_gen,\n",
        "            epochs=epochs,\n",
        "            validation_data=test_gen,\n",
        "            verbose=2\n",
        "        )"
      ],
      "execution_count": 0,
      "outputs": [
        {
          "output_type": "stream",
          "text": [
            "WARNING:tensorflow:From <ipython-input-25-9428bb2434c1>:5: Model.fit_generator (from tensorflow.python.keras.engine.training) is deprecated and will be removed in a future version.\n",
            "Instructions for updating:\n",
            "Please use Model.fit, which supports generators.\n",
            "Epoch 1/10\n",
            "4711/4711 - 366s - loss: 0.6144 - acc: 0.6908 - val_loss: 0.5507 - val_acc: 0.7180\n",
            "Epoch 2/10\n",
            "4711/4711 - 367s - loss: 0.5519 - acc: 0.7314 - val_loss: 0.5205 - val_acc: 0.7460\n",
            "Epoch 3/10\n",
            "4711/4711 - 371s - loss: 0.5297 - acc: 0.7511 - val_loss: 0.5005 - val_acc: 0.7678\n",
            "Epoch 4/10\n",
            "4711/4711 - 368s - loss: 0.5206 - acc: 0.7519 - val_loss: 0.4894 - val_acc: 0.7731\n",
            "Epoch 5/10\n",
            "4711/4711 - 365s - loss: 0.5084 - acc: 0.7661 - val_loss: 0.4808 - val_acc: 0.7802\n",
            "Epoch 6/10\n",
            "4711/4711 - 368s - loss: 0.5015 - acc: 0.7704 - val_loss: 0.4832 - val_acc: 0.7805\n",
            "Epoch 7/10\n",
            "4711/4711 - 373s - loss: 0.5051 - acc: 0.7728 - val_loss: 0.5368 - val_acc: 0.7315\n",
            "Epoch 8/10\n",
            "4711/4711 - 368s - loss: 0.4975 - acc: 0.7723 - val_loss: 0.4760 - val_acc: 0.7854\n",
            "Epoch 9/10\n",
            "4711/4711 - 367s - loss: 0.4982 - acc: 0.7733 - val_loss: 0.4748 - val_acc: 0.7856\n",
            "Epoch 10/10\n",
            "4711/4711 - 368s - loss: 0.4892 - acc: 0.7764 - val_loss: 0.5087 - val_acc: 0.7520\n"
          ],
          "name": "stdout"
        }
      ]
    },
    {
      "cell_type": "code",
      "metadata": {
        "id": "CaFXODE09Aap",
        "colab_type": "code",
        "outputId": "1809bb27-d7ce-4999-e7a5-7f88709e6fd4",
        "colab": {
          "base_uri": "https://localhost:8080/",
          "height": 51
        }
      },
      "source": [
        "t3 = time.time()\n",
        "preds = []\n",
        "i = 0\n",
        "for features, pairs in test_data_generator(G_train, embeddings):\n",
        "    labels = np.array([1 for i in pairs])\n",
        "    edges = [[j, x] for x in pairs]\n",
        "    test_gen = test_gen0.flow(edges, labels)\n",
        "    #print(model.predict(test_gen)[:, 0])\n",
        "    preds.append(pairs[np.argsort(-model.predict(test_gen)[:, 0])][:10])\n",
        "    i += 1\n",
        "    print('\\r', i, end = '')\n",
        "    if i == 100:\n",
        "      break\n",
        "print('\\r', i)\n",
        "t4 = time.time()\n",
        "\n",
        "print(mnap_k(preds[:100], adjacency_list_test[:100]))"
      ],
      "execution_count": 0,
      "outputs": [
        {
          "output_type": "stream",
          "text": [
            " 100\n",
            "0.0007746913580246914\n"
          ],
          "name": "stdout"
        }
      ]
    },
    {
      "cell_type": "code",
      "metadata": {
        "id": "TMzvtFiclCeS",
        "colab_type": "code",
        "outputId": "6b1e19e1-6c4a-4ac9-ff37-0c67c948d7b3",
        "colab": {
          "base_uri": "https://localhost:8080/",
          "height": 34
        }
      },
      "source": [
        "t4-t3"
      ],
      "execution_count": 0,
      "outputs": [
        {
          "output_type": "execute_result",
          "data": {
            "text/plain": [
              "1252.1709802150726"
            ]
          },
          "metadata": {
            "tags": []
          },
          "execution_count": 38
        }
      ]
    }
  ]
}